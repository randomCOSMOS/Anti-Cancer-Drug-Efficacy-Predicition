{
 "cells": [
  {
   "cell_type": "markdown",
   "id": "15535756-2e71-4272-adce-67629824c726",
   "metadata": {},
   "source": [
    "# Importing modules and reading data"
   ]
  },
  {
   "cell_type": "code",
   "execution_count": 22,
   "id": "7f688c29-7d77-4770-860a-94f1a052bce0",
   "metadata": {},
   "outputs": [],
   "source": [
    "import pandas as pd\n",
    "from sklearn.model_selection import train_test_split\n",
    "import matplotlib.pyplot as plt\n",
    "import numpy as np\n",
    "\n",
    "from tensorflow.keras.models import Sequential, load_model\n",
    "from tensorflow.keras.layers import Dense\n",
    "from sklearn.metrics import accuracy_score"
   ]
  },
  {
   "cell_type": "code",
   "execution_count": 23,
   "id": "8ae8f4c3-6245-4ac1-baea-b143b26b84a4",
   "metadata": {},
   "outputs": [],
   "source": [
    "drug = \"17-AAG\"\n",
    "df = pd.read_csv(\"./drug data/\" + drug + \".csv\")"
   ]
  },
  {
   "cell_type": "markdown",
   "id": "931c999b-8a24-4cdd-84d5-97654793d87c",
   "metadata": {},
   "source": [
    "### Preprocessing Data"
   ]
  },
  {
   "cell_type": "code",
   "execution_count": 24,
   "id": "624fc28b-34bd-4435-8614-4f215fe09ac1",
   "metadata": {},
   "outputs": [],
   "source": [
    "x = pd.get_dummies(df.drop(['AUC', 'Cell line'], axis=1))\n",
    "y = df[\"AUC\"]"
   ]
  },
  {
   "cell_type": "code",
   "execution_count": 25,
   "id": "491dfcf1-6159-4e27-bca0-10bdfd1ee5b1",
   "metadata": {},
   "outputs": [],
   "source": [
    "x_train, x_test, y_train, y_test = train_test_split(x, y, test_size=.2)"
   ]
  },
  {
   "cell_type": "markdown",
   "id": "dcf1f3ac-268d-4c3f-8b41-20e9188831b8",
   "metadata": {},
   "source": [
    "# Adding layers and training the model"
   ]
  },
  {
   "cell_type": "code",
   "execution_count": 26,
   "id": "4b9d2ab3-7bfa-422d-80f7-bc5f066db101",
   "metadata": {},
   "outputs": [],
   "source": [
    "model = Sequential()"
   ]
  },
  {
   "cell_type": "code",
   "execution_count": 27,
   "id": "fda781af-998b-445d-9ac8-731c616f79e5",
   "metadata": {},
   "outputs": [
    {
     "name": "stderr",
     "output_type": "stream",
     "text": [
      "D:\\anaconda3\\envs\\TF\\Lib\\site-packages\\keras\\src\\layers\\core\\dense.py:88: UserWarning: Do not pass an `input_shape`/`input_dim` argument to a layer. When using Sequential models, prefer using an `Input(shape)` object as the first layer in the model instead.\n",
      "  super().__init__(activity_regularizer=activity_regularizer, **kwargs)\n"
     ]
    }
   ],
   "source": [
    "model.add(Dense(units=32, activation='relu', input_dim=len(x_train.columns)))\n",
    "model.add(Dense(units=64, activation='relu'))\n",
    "model.add(Dense(units=1, activation='sigmoid'))"
   ]
  },
  {
   "cell_type": "markdown",
   "id": "b2f3e788-6cd1-4ffe-b955-802881576090",
   "metadata": {},
   "source": [
    "### Compiling"
   ]
  },
  {
   "cell_type": "code",
   "execution_count": 28,
   "id": "23efcab0-ebcf-4fa4-9752-081c9aa257f7",
   "metadata": {},
   "outputs": [],
   "source": [
    "model.compile(loss='binary_crossentropy', optimizer='sgd', metrics=['accuracy'])"
   ]
  },
  {
   "cell_type": "markdown",
   "id": "8c105755-52c0-4787-8c45-dd99158607fb",
   "metadata": {},
   "source": [
    "### Training"
   ]
  },
  {
   "cell_type": "code",
   "execution_count": 29,
   "id": "2b2b8458-7fde-4f58-8941-45e1281bc917",
   "metadata": {
    "scrolled": true
   },
   "outputs": [
    {
     "name": "stdout",
     "output_type": "stream",
     "text": [
      "Epoch 1/50\n",
      "\u001b[1m95/95\u001b[0m \u001b[32m━━━━━━━━━━━━━━━━━━━━\u001b[0m\u001b[37m\u001b[0m \u001b[1m1s\u001b[0m 2ms/step - accuracy: 0.0000e+00 - loss: 0.5836\n",
      "Epoch 2/50\n",
      "\u001b[1m95/95\u001b[0m \u001b[32m━━━━━━━━━━━━━━━━━━━━\u001b[0m\u001b[37m\u001b[0m \u001b[1m0s\u001b[0m 2ms/step - accuracy: 0.0000e+00 - loss: 0.4702\n",
      "Epoch 3/50\n",
      "\u001b[1m95/95\u001b[0m \u001b[32m━━━━━━━━━━━━━━━━━━━━\u001b[0m\u001b[37m\u001b[0m \u001b[1m0s\u001b[0m 2ms/step - accuracy: 0.0000e+00 - loss: 0.4416\n",
      "Epoch 4/50\n",
      "\u001b[1m95/95\u001b[0m \u001b[32m━━━━━━━━━━━━━━━━━━━━\u001b[0m\u001b[37m\u001b[0m \u001b[1m0s\u001b[0m 2ms/step - accuracy: 0.0000e+00 - loss: 0.4316\n",
      "Epoch 5/50\n",
      "\u001b[1m95/95\u001b[0m \u001b[32m━━━━━━━━━━━━━━━━━━━━\u001b[0m\u001b[37m\u001b[0m \u001b[1m0s\u001b[0m 2ms/step - accuracy: 0.0000e+00 - loss: 0.4350\n",
      "Epoch 6/50\n",
      "\u001b[1m95/95\u001b[0m \u001b[32m━━━━━━━━━━━━━━━━━━━━\u001b[0m\u001b[37m\u001b[0m \u001b[1m0s\u001b[0m 2ms/step - accuracy: 0.0000e+00 - loss: 0.4303\n",
      "Epoch 7/50\n",
      "\u001b[1m95/95\u001b[0m \u001b[32m━━━━━━━━━━━━━━━━━━━━\u001b[0m\u001b[37m\u001b[0m \u001b[1m0s\u001b[0m 2ms/step - accuracy: 0.0000e+00 - loss: 0.4317\n",
      "Epoch 8/50\n",
      "\u001b[1m95/95\u001b[0m \u001b[32m━━━━━━━━━━━━━━━━━━━━\u001b[0m\u001b[37m\u001b[0m \u001b[1m0s\u001b[0m 2ms/step - accuracy: 0.0000e+00 - loss: 0.4303\n",
      "Epoch 9/50\n",
      "\u001b[1m95/95\u001b[0m \u001b[32m━━━━━━━━━━━━━━━━━━━━\u001b[0m\u001b[37m\u001b[0m \u001b[1m0s\u001b[0m 2ms/step - accuracy: 0.0000e+00 - loss: 0.4303\n",
      "Epoch 10/50\n",
      "\u001b[1m95/95\u001b[0m \u001b[32m━━━━━━━━━━━━━━━━━━━━\u001b[0m\u001b[37m\u001b[0m \u001b[1m0s\u001b[0m 2ms/step - accuracy: 0.0000e+00 - loss: 0.4367\n",
      "Epoch 11/50\n",
      "\u001b[1m95/95\u001b[0m \u001b[32m━━━━━━━━━━━━━━━━━━━━\u001b[0m\u001b[37m\u001b[0m \u001b[1m0s\u001b[0m 2ms/step - accuracy: 0.0000e+00 - loss: 0.4293\n",
      "Epoch 12/50\n",
      "\u001b[1m95/95\u001b[0m \u001b[32m━━━━━━━━━━━━━━━━━━━━\u001b[0m\u001b[37m\u001b[0m \u001b[1m0s\u001b[0m 2ms/step - accuracy: 0.0000e+00 - loss: 0.4281\n",
      "Epoch 13/50\n",
      "\u001b[1m95/95\u001b[0m \u001b[32m━━━━━━━━━━━━━━━━━━━━\u001b[0m\u001b[37m\u001b[0m \u001b[1m0s\u001b[0m 2ms/step - accuracy: 0.0000e+00 - loss: 0.4196\n",
      "Epoch 14/50\n",
      "\u001b[1m95/95\u001b[0m \u001b[32m━━━━━━━━━━━━━━━━━━━━\u001b[0m\u001b[37m\u001b[0m \u001b[1m0s\u001b[0m 2ms/step - accuracy: 0.0000e+00 - loss: 0.4305\n",
      "Epoch 15/50\n",
      "\u001b[1m95/95\u001b[0m \u001b[32m━━━━━━━━━━━━━━━━━━━━\u001b[0m\u001b[37m\u001b[0m \u001b[1m0s\u001b[0m 2ms/step - accuracy: 0.0000e+00 - loss: 0.4376\n",
      "Epoch 16/50\n",
      "\u001b[1m95/95\u001b[0m \u001b[32m━━━━━━━━━━━━━━━━━━━━\u001b[0m\u001b[37m\u001b[0m \u001b[1m0s\u001b[0m 2ms/step - accuracy: 0.0000e+00 - loss: 0.4278\n",
      "Epoch 17/50\n",
      "\u001b[1m95/95\u001b[0m \u001b[32m━━━━━━━━━━━━━━━━━━━━\u001b[0m\u001b[37m\u001b[0m \u001b[1m0s\u001b[0m 2ms/step - accuracy: 0.0000e+00 - loss: 0.4256\n",
      "Epoch 18/50\n",
      "\u001b[1m95/95\u001b[0m \u001b[32m━━━━━━━━━━━━━━━━━━━━\u001b[0m\u001b[37m\u001b[0m \u001b[1m0s\u001b[0m 2ms/step - accuracy: 0.0000e+00 - loss: 0.4325\n",
      "Epoch 19/50\n",
      "\u001b[1m95/95\u001b[0m \u001b[32m━━━━━━━━━━━━━━━━━━━━\u001b[0m\u001b[37m\u001b[0m \u001b[1m0s\u001b[0m 2ms/step - accuracy: 0.0000e+00 - loss: 0.4251\n",
      "Epoch 20/50\n",
      "\u001b[1m95/95\u001b[0m \u001b[32m━━━━━━━━━━━━━━━━━━━━\u001b[0m\u001b[37m\u001b[0m \u001b[1m0s\u001b[0m 2ms/step - accuracy: 0.0000e+00 - loss: 0.4231\n",
      "Epoch 21/50\n",
      "\u001b[1m95/95\u001b[0m \u001b[32m━━━━━━━━━━━━━━━━━━━━\u001b[0m\u001b[37m\u001b[0m \u001b[1m0s\u001b[0m 2ms/step - accuracy: 0.0000e+00 - loss: 0.4294\n",
      "Epoch 22/50\n",
      "\u001b[1m95/95\u001b[0m \u001b[32m━━━━━━━━━━━━━━━━━━━━\u001b[0m\u001b[37m\u001b[0m \u001b[1m0s\u001b[0m 2ms/step - accuracy: 0.0000e+00 - loss: 0.4284\n",
      "Epoch 23/50\n",
      "\u001b[1m95/95\u001b[0m \u001b[32m━━━━━━━━━━━━━━━━━━━━\u001b[0m\u001b[37m\u001b[0m \u001b[1m0s\u001b[0m 2ms/step - accuracy: 0.0000e+00 - loss: 0.4290\n",
      "Epoch 24/50\n",
      "\u001b[1m95/95\u001b[0m \u001b[32m━━━━━━━━━━━━━━━━━━━━\u001b[0m\u001b[37m\u001b[0m \u001b[1m0s\u001b[0m 2ms/step - accuracy: 0.0000e+00 - loss: 0.4271\n",
      "Epoch 25/50\n",
      "\u001b[1m95/95\u001b[0m \u001b[32m━━━━━━━━━━━━━━━━━━━━\u001b[0m\u001b[37m\u001b[0m \u001b[1m0s\u001b[0m 2ms/step - accuracy: 0.0000e+00 - loss: 0.4338\n",
      "Epoch 26/50\n",
      "\u001b[1m95/95\u001b[0m \u001b[32m━━━━━━━━━━━━━━━━━━━━\u001b[0m\u001b[37m\u001b[0m \u001b[1m0s\u001b[0m 2ms/step - accuracy: 0.0000e+00 - loss: 0.4178\n",
      "Epoch 27/50\n",
      "\u001b[1m95/95\u001b[0m \u001b[32m━━━━━━━━━━━━━━━━━━━━\u001b[0m\u001b[37m\u001b[0m \u001b[1m0s\u001b[0m 2ms/step - accuracy: 0.0000e+00 - loss: 0.4123\n",
      "Epoch 28/50\n",
      "\u001b[1m95/95\u001b[0m \u001b[32m━━━━━━━━━━━━━━━━━━━━\u001b[0m\u001b[37m\u001b[0m \u001b[1m0s\u001b[0m 2ms/step - accuracy: 0.0000e+00 - loss: 0.4228\n",
      "Epoch 29/50\n",
      "\u001b[1m95/95\u001b[0m \u001b[32m━━━━━━━━━━━━━━━━━━━━\u001b[0m\u001b[37m\u001b[0m \u001b[1m0s\u001b[0m 2ms/step - accuracy: 0.0000e+00 - loss: 0.4231\n",
      "Epoch 30/50\n",
      "\u001b[1m95/95\u001b[0m \u001b[32m━━━━━━━━━━━━━━━━━━━━\u001b[0m\u001b[37m\u001b[0m \u001b[1m0s\u001b[0m 2ms/step - accuracy: 0.0000e+00 - loss: 0.4178\n",
      "Epoch 31/50\n",
      "\u001b[1m95/95\u001b[0m \u001b[32m━━━━━━━━━━━━━━━━━━━━\u001b[0m\u001b[37m\u001b[0m \u001b[1m0s\u001b[0m 2ms/step - accuracy: 0.0000e+00 - loss: 0.4421\n",
      "Epoch 32/50\n",
      "\u001b[1m95/95\u001b[0m \u001b[32m━━━━━━━━━━━━━━━━━━━━\u001b[0m\u001b[37m\u001b[0m \u001b[1m0s\u001b[0m 2ms/step - accuracy: 0.0000e+00 - loss: 0.4305\n",
      "Epoch 33/50\n",
      "\u001b[1m95/95\u001b[0m \u001b[32m━━━━━━━━━━━━━━━━━━━━\u001b[0m\u001b[37m\u001b[0m \u001b[1m0s\u001b[0m 2ms/step - accuracy: 0.0000e+00 - loss: 0.4241\n",
      "Epoch 34/50\n",
      "\u001b[1m95/95\u001b[0m \u001b[32m━━━━━━━━━━━━━━━━━━━━\u001b[0m\u001b[37m\u001b[0m \u001b[1m0s\u001b[0m 2ms/step - accuracy: 0.0000e+00 - loss: 0.4198\n",
      "Epoch 35/50\n",
      "\u001b[1m95/95\u001b[0m \u001b[32m━━━━━━━━━━━━━━━━━━━━\u001b[0m\u001b[37m\u001b[0m \u001b[1m0s\u001b[0m 2ms/step - accuracy: 0.0000e+00 - loss: 0.4253\n",
      "Epoch 36/50\n",
      "\u001b[1m95/95\u001b[0m \u001b[32m━━━━━━━━━━━━━━━━━━━━\u001b[0m\u001b[37m\u001b[0m \u001b[1m0s\u001b[0m 2ms/step - accuracy: 0.0000e+00 - loss: 0.4266\n",
      "Epoch 37/50\n",
      "\u001b[1m95/95\u001b[0m \u001b[32m━━━━━━━━━━━━━━━━━━━━\u001b[0m\u001b[37m\u001b[0m \u001b[1m0s\u001b[0m 2ms/step - accuracy: 0.0000e+00 - loss: 0.4219\n",
      "Epoch 38/50\n",
      "\u001b[1m95/95\u001b[0m \u001b[32m━━━━━━━━━━━━━━━━━━━━\u001b[0m\u001b[37m\u001b[0m \u001b[1m0s\u001b[0m 2ms/step - accuracy: 0.0000e+00 - loss: 0.4226\n",
      "Epoch 39/50\n",
      "\u001b[1m95/95\u001b[0m \u001b[32m━━━━━━━━━━━━━━━━━━━━\u001b[0m\u001b[37m\u001b[0m \u001b[1m0s\u001b[0m 2ms/step - accuracy: 0.0000e+00 - loss: 0.4246\n",
      "Epoch 40/50\n",
      "\u001b[1m95/95\u001b[0m \u001b[32m━━━━━━━━━━━━━━━━━━━━\u001b[0m\u001b[37m\u001b[0m \u001b[1m0s\u001b[0m 2ms/step - accuracy: 0.0000e+00 - loss: 0.4221\n",
      "Epoch 41/50\n",
      "\u001b[1m95/95\u001b[0m \u001b[32m━━━━━━━━━━━━━━━━━━━━\u001b[0m\u001b[37m\u001b[0m \u001b[1m0s\u001b[0m 2ms/step - accuracy: 0.0000e+00 - loss: 0.4175\n",
      "Epoch 42/50\n",
      "\u001b[1m95/95\u001b[0m \u001b[32m━━━━━━━━━━━━━━━━━━━━\u001b[0m\u001b[37m\u001b[0m \u001b[1m0s\u001b[0m 2ms/step - accuracy: 0.0000e+00 - loss: 0.4161\n",
      "Epoch 43/50\n",
      "\u001b[1m95/95\u001b[0m \u001b[32m━━━━━━━━━━━━━━━━━━━━\u001b[0m\u001b[37m\u001b[0m \u001b[1m0s\u001b[0m 2ms/step - accuracy: 0.0000e+00 - loss: 0.4205\n",
      "Epoch 44/50\n",
      "\u001b[1m95/95\u001b[0m \u001b[32m━━━━━━━━━━━━━━━━━━━━\u001b[0m\u001b[37m\u001b[0m \u001b[1m0s\u001b[0m 2ms/step - accuracy: 0.0000e+00 - loss: 0.4241\n",
      "Epoch 45/50\n",
      "\u001b[1m95/95\u001b[0m \u001b[32m━━━━━━━━━━━━━━━━━━━━\u001b[0m\u001b[37m\u001b[0m \u001b[1m0s\u001b[0m 2ms/step - accuracy: 0.0000e+00 - loss: 0.4211\n",
      "Epoch 46/50\n",
      "\u001b[1m95/95\u001b[0m \u001b[32m━━━━━━━━━━━━━━━━━━━━\u001b[0m\u001b[37m\u001b[0m \u001b[1m0s\u001b[0m 2ms/step - accuracy: 0.0000e+00 - loss: 0.4232\n",
      "Epoch 47/50\n",
      "\u001b[1m95/95\u001b[0m \u001b[32m━━━━━━━━━━━━━━━━━━━━\u001b[0m\u001b[37m\u001b[0m \u001b[1m0s\u001b[0m 2ms/step - accuracy: 0.0000e+00 - loss: 0.4231\n",
      "Epoch 48/50\n",
      "\u001b[1m95/95\u001b[0m \u001b[32m━━━━━━━━━━━━━━━━━━━━\u001b[0m\u001b[37m\u001b[0m \u001b[1m0s\u001b[0m 2ms/step - accuracy: 0.0000e+00 - loss: 0.4243\n",
      "Epoch 49/50\n",
      "\u001b[1m95/95\u001b[0m \u001b[32m━━━━━━━━━━━━━━━━━━━━\u001b[0m\u001b[37m\u001b[0m \u001b[1m0s\u001b[0m 2ms/step - accuracy: 0.0000e+00 - loss: 0.4239\n",
      "Epoch 50/50\n",
      "\u001b[1m95/95\u001b[0m \u001b[32m━━━━━━━━━━━━━━━━━━━━\u001b[0m\u001b[37m\u001b[0m \u001b[1m0s\u001b[0m 2ms/step - accuracy: 0.0000e+00 - loss: 0.4164\n"
     ]
    },
    {
     "data": {
      "text/plain": [
       "<keras.src.callbacks.history.History at 0x165775e88c0>"
      ]
     },
     "execution_count": 29,
     "metadata": {},
     "output_type": "execute_result"
    }
   ],
   "source": [
    "model.fit(x_train,y_train, epochs=50,batch_size=8)"
   ]
  },
  {
   "cell_type": "markdown",
   "id": "182e9659-11c3-41c4-8d26-8c043b6a91d4",
   "metadata": {},
   "source": [
    "# Predicition and Finding Correlation"
   ]
  },
  {
   "cell_type": "markdown",
   "id": "474268eb-6f39-4f71-bcd0-b9d0689015c1",
   "metadata": {},
   "source": [
    "### Setting up predictions and test case"
   ]
  },
  {
   "cell_type": "code",
   "execution_count": 30,
   "id": "d17542ca-32c3-4747-a2c7-ae802e0e1852",
   "metadata": {},
   "outputs": [
    {
     "name": "stdout",
     "output_type": "stream",
     "text": [
      "\u001b[1m6/6\u001b[0m \u001b[32m━━━━━━━━━━━━━━━━━━━━\u001b[0m\u001b[37m\u001b[0m \u001b[1m0s\u001b[0m 13ms/step\n"
     ]
    }
   ],
   "source": [
    "values = model.predict(x_test)\n",
    "\n",
    "pred = []\n",
    "for i in values:\n",
    "    pred.append(i[0])\n",
    "pred = np.array(pred)"
   ]
  },
  {
   "cell_type": "code",
   "execution_count": 31,
   "id": "659abe23-067d-49c5-8596-783c6aa8f0e8",
   "metadata": {},
   "outputs": [],
   "source": [
    "y_test = y_test.to_numpy()"
   ]
  },
  {
   "cell_type": "code",
   "execution_count": null,
   "id": "2695ef11-8431-4df9-8773-edc17b175786",
   "metadata": {},
   "outputs": [],
   "source": []
  },
  {
   "cell_type": "code",
   "execution_count": 38,
   "id": "c7ae9818-d838-452e-a2e6-31e7819c0e92",
   "metadata": {},
   "outputs": [
    {
     "data": {
      "text/plain": [
       "array([0.79612404, 0.77826834, 0.804806  , 0.80757403, 0.79886645,\n",
       "       0.8859594 , 0.8755038 , 0.930549  , 0.8759298 , 0.74866205,\n",
       "       0.7786647 , 0.8826337 , 0.79995906, 0.78390414, 0.8114233 ,\n",
       "       0.9003915 , 0.8866066 , 0.79361427, 0.76558685, 0.8366066 ,\n",
       "       0.8976393 , 0.8533492 , 0.8224176 , 0.79902333, 0.8599935 ,\n",
       "       0.87506133, 0.86783785, 0.90609074, 0.767926  , 0.8304843 ,\n",
       "       0.79885674, 0.8298036 , 0.74357235, 0.7574555 , 0.8821408 ,\n",
       "       0.8426241 , 0.8578225 , 0.73967385, 0.901031  , 0.8380531 ,\n",
       "       0.7084227 , 0.783833  , 0.8442395 , 0.8511738 , 0.7655586 ,\n",
       "       0.81969005, 0.77683395, 0.8467094 , 0.77949274, 0.7796243 ,\n",
       "       0.7393725 , 0.7479093 , 0.9480192 , 0.78411394, 0.73493314,\n",
       "       0.85259247, 0.80792344, 0.78227824, 0.80349827, 0.84680223,\n",
       "       0.7961671 , 0.9151188 , 0.950788  , 0.8785135 , 0.90436035,\n",
       "       0.8463185 , 0.804315  , 0.7824065 , 0.71086025, 0.77405727,\n",
       "       0.82323253, 0.7646072 , 0.7353462 , 0.80847317, 0.97259825,\n",
       "       0.8691771 , 0.84036064, 0.8264222 , 0.86520773, 0.764289  ,\n",
       "       0.74671674, 0.88173723, 0.8397938 , 0.89175546, 0.85140014,\n",
       "       0.7900176 , 0.840509  , 0.75788844, 0.8377376 , 0.78953445,\n",
       "       0.8206434 , 0.7680719 , 0.7366731 , 0.836668  , 0.8550557 ,\n",
       "       0.9019886 , 0.7618948 , 0.81400955, 0.8126759 , 0.7955992 ,\n",
       "       0.742397  , 0.8219962 , 0.94602156, 0.70253265, 0.763253  ,\n",
       "       0.81011283, 0.7597869 , 0.8803776 , 0.781484  , 0.86225957,\n",
       "       0.7227139 , 0.80111575, 0.8844887 , 0.9776358 , 0.83610874,\n",
       "       0.9949488 , 0.91328156, 0.8375742 , 0.9514686 , 0.99934846,\n",
       "       0.7254501 , 0.7088548 , 0.822417  , 0.8922192 , 0.72997373,\n",
       "       0.76756454, 0.85513145, 0.8422253 , 0.8175436 , 0.817576  ,\n",
       "       0.8405943 , 0.8655165 , 0.75821525, 0.7494276 , 0.81001985,\n",
       "       0.967732  , 0.7447871 , 0.7822148 , 0.7458074 , 0.79905903,\n",
       "       0.77902246, 0.72666454, 0.9803417 , 0.7910614 , 0.93275005,\n",
       "       0.7487352 , 0.98593247, 0.7751855 , 0.8748426 , 0.8198749 ,\n",
       "       0.8844538 , 0.8304695 , 0.80397725, 0.72311056, 0.73934615,\n",
       "       0.815634  , 0.75157773, 0.8021351 , 0.7061187 , 0.8512173 ,\n",
       "       0.76519763, 0.7085279 , 0.75292194, 0.83690315, 0.86630684,\n",
       "       0.7587707 , 0.9999878 , 0.79881823, 0.82106227, 0.8492344 ,\n",
       "       0.7035557 , 0.84653986, 0.92518646, 0.99661326, 0.8491085 ,\n",
       "       0.996773  , 0.93540734, 0.71333265, 0.9866431 , 0.7320597 ,\n",
       "       0.9639194 , 0.7486299 , 0.8053988 , 0.79941   , 0.8442331 ,\n",
       "       0.7224009 , 0.97843254, 0.7016903 , 0.7649147 , 0.8561494 ],\n",
       "      dtype=float32)"
      ]
     },
     "execution_count": 38,
     "metadata": {},
     "output_type": "execute_result"
    }
   ],
   "source": [
    "pred"
   ]
  },
  {
   "cell_type": "markdown",
   "id": "dd87aefa-2119-483b-bd86-f39d4d921bf1",
   "metadata": {},
   "source": [
    "### Plotting Graph"
   ]
  },
  {
   "cell_type": "code",
   "execution_count": 32,
   "id": "00453561-bfae-4a22-b1ee-5092f32cf512",
   "metadata": {},
   "outputs": [
    {
     "data": {
      "text/plain": [
       "[<matplotlib.lines.Line2D at 0x1657762a420>]"
      ]
     },
     "execution_count": 32,
     "metadata": {},
     "output_type": "execute_result"
    },
    {
     "data": {
      "image/png": "[encoded data removed]",
      "text/plain": [
       "<Figure size 640x480 with 1 Axes>"
      ]
     },
     "metadata": {},
     "output_type": "display_data"
    }
   ],
   "source": [
    "plt.scatter(pred,y_test)\n",
    "plt.xlabel(\"Predictioncs\")\n",
    "plt.ylabel(\"Actual Values\")\n",
    "plt.title(drug)\n",
    "m, b = np.polyfit(pred, y_test, 1)\n",
    "plt.plot(pred, m*pred+b, lw=3, color=\"red\")"
   ]
  },
  {
   "cell_type": "markdown",
   "id": "0af15ab5-39eb-442d-8229-94974e93af54",
   "metadata": {},
   "source": [
    "# Finding Pearson correlation coefficient\n"
   ]
  },
  {
   "cell_type": "code",
   "execution_count": 33,
   "id": "cb6706e0-a46e-402d-9afb-10737c38ad0f",
   "metadata": {},
   "outputs": [],
   "source": [
    "import math"
   ]
  },
  {
   "cell_type": "code",
   "execution_count": 34,
   "id": "dc0a5a26-35f8-4d1e-b9cf-086012df12d6",
   "metadata": {},
   "outputs": [],
   "source": [
    "pred_n = pred - pred.mean()\n",
    "y_test_n = y_test - y_test.mean()"
   ]
  },
  {
   "cell_type": "code",
   "execution_count": 35,
   "id": "6015fa44-c438-460c-b9bb-64214693a161",
   "metadata": {},
   "outputs": [],
   "source": [
    "num = sum(pred_n*y_test_n)"
   ]
  },
  {
   "cell_type": "code",
   "execution_count": 36,
   "id": "1941c6f1-50ac-4c6a-bc9c-0b706fc1f14f",
   "metadata": {},
   "outputs": [],
   "source": [
    "den = math.sqrt(sum(pred_n**2)*sum(y_test_n**2))"
   ]
  },
  {
   "cell_type": "markdown",
   "id": "786c16e7-98d1-4d1e-b11f-1ea840e473e7",
   "metadata": {},
   "source": [
    "|PCC|Value|\r\n",
    "|:----|:----|\r\n",
    "|0 < r ≤  0.19|Very Low Correlation|\r\n",
    "|0.2 ≤ r ≤ 0.39|Low Correlation|\r\n",
    "|0.4 ≤ r ≤ 0.59|Moderate Correlation|\r\n",
    "|0.6 ≤ r ≤ 0.79| High Correlation|\r\n",
    "|0.8 ≤ r ≤ 1.0|Very High Correlation|\n"
   ]
  },
  {
   "cell_type": "code",
   "execution_count": 37,
   "id": "d131f312-99b1-4ed8-b4c3-78758fc0f1ad",
   "metadata": {},
   "outputs": [
    {
     "name": "stdout",
     "output_type": "stream",
     "text": [
      "Pearson correlation coefficient comes out to be: 0.846890462565342\n"
     ]
    }
   ],
   "source": [
    "pcc = num/den\n",
    "print(\"Pearson correlation coefficient comes out to be:\",pcc)"
   ]
  },
  {
   "cell_type": "code",
   "execution_count": null,
   "id": "20dc55f5-f2b8-4ff0-b79c-288996518fa0",
   "metadata": {},
   "outputs": [],
   "source": []
  }
 ],
 "metadata": {
  "kernelspec": {
   "display_name": "TF",
   "language": "python",
   "name": "tf"
  },
  "language_info": {
   "codemirror_mode": {
    "name": "ipython",
    "version": 3
   },
   "file_extension": ".py",
   "mimetype": "text/x-python",
   "name": "python",
   "nbconvert_exporter": "python",
   "pygments_lexer": "ipython3",
   "version": "3.12.2"
  }
 },
 "nbformat": 4,
 "nbformat_minor": 5
}
