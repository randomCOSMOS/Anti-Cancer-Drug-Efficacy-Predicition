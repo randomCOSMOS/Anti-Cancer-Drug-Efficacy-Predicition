{
 "cells": [
  {
   "cell_type": "code",
   "execution_count": 1,
   "id": "ed075c44-2f9a-4503-8f3e-cdeee1debe27",
   "metadata": {},
   "outputs": [],
   "source": [
    "import tensorflow as tf"
   ]
  },
  {
   "cell_type": "code",
   "execution_count": 2,
   "id": "8133c475-6420-4ae9-8d9d-7dfefb5bb8e2",
   "metadata": {},
   "outputs": [],
   "source": [
    "import pandas as pd"
   ]
  },
  {
   "cell_type": "code",
   "execution_count": 3,
   "id": "d84d4f38-ab5d-4c47-9cea-5b7efc7e17f0",
   "metadata": {},
   "outputs": [],
   "source": [
    "aag17 = pd.read_csv(\"./drug data/17-aag.csv\")"
   ]
  },
  {
   "cell_type": "code",
   "execution_count": 4,
   "id": "4b928206-e52d-4d6a-8b89-19e53a1d7db0",
   "metadata": {},
   "outputs": [
    {
     "data": {
      "text/html": [
       "<div>\n",
       "<style scoped>\n",
       "    .dataframe tbody tr th:only-of-type {\n",
       "        vertical-align: middle;\n",
       "    }\n",
       "\n",
       "    .dataframe tbody tr th {\n",
       "        vertical-align: top;\n",
       "    }\n",
       "\n",
       "    .dataframe thead th {\n",
       "        text-align: right;\n",
       "    }\n",
       "</style>\n",
       "<table border=\"1\" class=\"dataframe\">\n",
       "  <thead>\n",
       "    <tr style=\"text-align: right;\">\n",
       "      <th></th>\n",
       "      <th>Cell line</th>\n",
       "      <th>TCGA classification</th>\n",
       "      <th>Tissue</th>\n",
       "      <th>Tissue sub-type</th>\n",
       "      <th>IC50</th>\n",
       "      <th>AUC</th>\n",
       "    </tr>\n",
       "  </thead>\n",
       "  <tbody>\n",
       "    <tr>\n",
       "      <th>0</th>\n",
       "      <td>RPMI-7951</td>\n",
       "      <td>SKCM</td>\n",
       "      <td>skin</td>\n",
       "      <td>melanoma</td>\n",
       "      <td>0.023834</td>\n",
       "      <td>0.463068</td>\n",
       "    </tr>\n",
       "    <tr>\n",
       "      <th>1</th>\n",
       "      <td>HSC-39</td>\n",
       "      <td>STAD</td>\n",
       "      <td>digestive_system</td>\n",
       "      <td>stomach</td>\n",
       "      <td>0.026497</td>\n",
       "      <td>0.474838</td>\n",
       "    </tr>\n",
       "    <tr>\n",
       "      <th>2</th>\n",
       "      <td>NCI-H460</td>\n",
       "      <td>UNCLASSIFIED</td>\n",
       "      <td>lung</td>\n",
       "      <td>lung_NSCLC_large_cell</td>\n",
       "      <td>0.032444</td>\n",
       "      <td>0.503245</td>\n",
       "    </tr>\n",
       "    <tr>\n",
       "      <th>3</th>\n",
       "      <td>KS-1</td>\n",
       "      <td>GBM</td>\n",
       "      <td>nervous_system</td>\n",
       "      <td>glioma</td>\n",
       "      <td>0.033209</td>\n",
       "      <td>0.505739</td>\n",
       "    </tr>\n",
       "    <tr>\n",
       "      <th>4</th>\n",
       "      <td>MDA-MB-453</td>\n",
       "      <td>BRCA</td>\n",
       "      <td>breast</td>\n",
       "      <td>breast</td>\n",
       "      <td>0.036640</td>\n",
       "      <td>0.518229</td>\n",
       "    </tr>\n",
       "  </tbody>\n",
       "</table>\n",
       "</div>"
      ],
      "text/plain": [
       "    Cell line TCGA classification            Tissue        Tissue sub-type  \\\n",
       "0   RPMI-7951                SKCM              skin               melanoma   \n",
       "1      HSC-39                STAD  digestive_system                stomach   \n",
       "2    NCI-H460        UNCLASSIFIED              lung  lung_NSCLC_large_cell   \n",
       "3        KS-1                 GBM    nervous_system                 glioma   \n",
       "4  MDA-MB-453                BRCA            breast                 breast   \n",
       "\n",
       "       IC50       AUC  \n",
       "0  0.023834  0.463068  \n",
       "1  0.026497  0.474838  \n",
       "2  0.032444  0.503245  \n",
       "3  0.033209  0.505739  \n",
       "4  0.036640  0.518229  "
      ]
     },
     "execution_count": 4,
     "metadata": {},
     "output_type": "execute_result"
    }
   ],
   "source": [
    "aag17.head()"
   ]
  },
  {
   "cell_type": "code",
   "execution_count": 6,
   "id": "d28c4238-e6f8-4567-ad9a-0e5c672de816",
   "metadata": {},
   "outputs": [
    {
     "data": {
      "text/plain": [
       "0.829999272918862"
      ]
     },
     "execution_count": 6,
     "metadata": {},
     "output_type": "execute_result"
    }
   ],
   "source": [
    "aag17[\"AUC\"].mean()"
   ]
  },
  {
   "cell_type": "code",
   "execution_count": 7,
   "id": "93a14fbb-93b9-4fd0-8f88-8e89caa3388a",
   "metadata": {},
   "outputs": [],
   "source": [
    "def get_mean(path):\n",
    "    data = pd.read_csv(path)\n",
    "    ic50 = data[\"IC50\"].mean()\n",
    "    auc = data[\"AUC\"].mean()\n",
    "    print(f\"IC50 mean is {ic50} and AUC mean is {auc}\")"
   ]
  },
  {
   "cell_type": "code",
   "execution_count": 30,
   "id": "6b4dd8a8-1a9b-4d82-bf42-3041902bdf64",
   "metadata": {},
   "outputs": [
    {
     "name": "stdout",
     "output_type": "stream",
     "text": [
      "IC50 mean is 17.3755127892562 and AUC mean is 0.8756612035123965\n"
     ]
    }
   ],
   "source": [
    "get_mean(\"./drug data/pd0325901.csv\")"
   ]
  },
  {
   "cell_type": "code",
   "execution_count": 32,
   "id": "964d12c4-297c-49d8-809f-43e6f87dfdcb",
   "metadata": {},
   "outputs": [],
   "source": [
    "df = pd.read_csv(\"./drug data/17-aag.csv\")"
   ]
  },
  {
   "cell_type": "code",
   "execution_count": 33,
   "id": "548cce84-a28b-47c3-80dc-d27aa12cda70",
   "metadata": {},
   "outputs": [
    {
     "data": {
      "text/html": [
       "<div>\n",
       "<style scoped>\n",
       "    .dataframe tbody tr th:only-of-type {\n",
       "        vertical-align: middle;\n",
       "    }\n",
       "\n",
       "    .dataframe tbody tr th {\n",
       "        vertical-align: top;\n",
       "    }\n",
       "\n",
       "    .dataframe thead th {\n",
       "        text-align: right;\n",
       "    }\n",
       "</style>\n",
       "<table border=\"1\" class=\"dataframe\">\n",
       "  <thead>\n",
       "    <tr style=\"text-align: right;\">\n",
       "      <th></th>\n",
       "      <th>Cell line</th>\n",
       "      <th>TCGA classification</th>\n",
       "      <th>Tissue</th>\n",
       "      <th>Tissue sub-type</th>\n",
       "      <th>IC50</th>\n",
       "      <th>AUC</th>\n",
       "    </tr>\n",
       "  </thead>\n",
       "  <tbody>\n",
       "    <tr>\n",
       "      <th>0</th>\n",
       "      <td>RPMI-7951</td>\n",
       "      <td>SKCM</td>\n",
       "      <td>skin</td>\n",
       "      <td>melanoma</td>\n",
       "      <td>0.023834</td>\n",
       "      <td>0.463068</td>\n",
       "    </tr>\n",
       "    <tr>\n",
       "      <th>1</th>\n",
       "      <td>HSC-39</td>\n",
       "      <td>STAD</td>\n",
       "      <td>digestive_system</td>\n",
       "      <td>stomach</td>\n",
       "      <td>0.026497</td>\n",
       "      <td>0.474838</td>\n",
       "    </tr>\n",
       "    <tr>\n",
       "      <th>2</th>\n",
       "      <td>NCI-H460</td>\n",
       "      <td>UNCLASSIFIED</td>\n",
       "      <td>lung</td>\n",
       "      <td>lung_NSCLC_large_cell</td>\n",
       "      <td>0.032444</td>\n",
       "      <td>0.503245</td>\n",
       "    </tr>\n",
       "    <tr>\n",
       "      <th>3</th>\n",
       "      <td>KS-1</td>\n",
       "      <td>GBM</td>\n",
       "      <td>nervous_system</td>\n",
       "      <td>glioma</td>\n",
       "      <td>0.033209</td>\n",
       "      <td>0.505739</td>\n",
       "    </tr>\n",
       "    <tr>\n",
       "      <th>4</th>\n",
       "      <td>MDA-MB-453</td>\n",
       "      <td>BRCA</td>\n",
       "      <td>breast</td>\n",
       "      <td>breast</td>\n",
       "      <td>0.036640</td>\n",
       "      <td>0.518229</td>\n",
       "    </tr>\n",
       "    <tr>\n",
       "      <th>...</th>\n",
       "      <td>...</td>\n",
       "      <td>...</td>\n",
       "      <td>...</td>\n",
       "      <td>...</td>\n",
       "      <td>...</td>\n",
       "      <td>...</td>\n",
       "    </tr>\n",
       "    <tr>\n",
       "      <th>944</th>\n",
       "      <td>VMRC-RCW</td>\n",
       "      <td>KIRC</td>\n",
       "      <td>kidney</td>\n",
       "      <td>kidney</td>\n",
       "      <td>77.937605</td>\n",
       "      <td>0.974348</td>\n",
       "    </tr>\n",
       "    <tr>\n",
       "      <th>945</th>\n",
       "      <td>RCC10RGB</td>\n",
       "      <td>KIRC</td>\n",
       "      <td>kidney</td>\n",
       "      <td>kidney</td>\n",
       "      <td>78.764555</td>\n",
       "      <td>0.961082</td>\n",
       "    </tr>\n",
       "    <tr>\n",
       "      <th>946</th>\n",
       "      <td>NCI-H2444</td>\n",
       "      <td>UNCLASSIFIED</td>\n",
       "      <td>lung</td>\n",
       "      <td>lung_NSCLC_not_specified</td>\n",
       "      <td>85.793583</td>\n",
       "      <td>0.985189</td>\n",
       "    </tr>\n",
       "    <tr>\n",
       "      <th>947</th>\n",
       "      <td>NCI-H441</td>\n",
       "      <td>LUAD</td>\n",
       "      <td>lung</td>\n",
       "      <td>lung_NSCLC_adenocarcinoma</td>\n",
       "      <td>103.568955</td>\n",
       "      <td>0.953221</td>\n",
       "    </tr>\n",
       "    <tr>\n",
       "      <th>948</th>\n",
       "      <td>SW756</td>\n",
       "      <td>CESC</td>\n",
       "      <td>urogenital_system</td>\n",
       "      <td>cervix</td>\n",
       "      <td>151.475965</td>\n",
       "      <td>0.986244</td>\n",
       "    </tr>\n",
       "  </tbody>\n",
       "</table>\n",
       "<p>949 rows × 6 columns</p>\n",
       "</div>"
      ],
      "text/plain": [
       "      Cell line TCGA classification             Tissue  \\\n",
       "0     RPMI-7951                SKCM               skin   \n",
       "1        HSC-39                STAD   digestive_system   \n",
       "2      NCI-H460        UNCLASSIFIED               lung   \n",
       "3          KS-1                 GBM     nervous_system   \n",
       "4    MDA-MB-453                BRCA             breast   \n",
       "..          ...                 ...                ...   \n",
       "944    VMRC-RCW                KIRC             kidney   \n",
       "945    RCC10RGB                KIRC             kidney   \n",
       "946   NCI-H2444        UNCLASSIFIED               lung   \n",
       "947    NCI-H441                LUAD               lung   \n",
       "948       SW756                CESC  urogenital_system   \n",
       "\n",
       "               Tissue sub-type        IC50       AUC  \n",
       "0                     melanoma    0.023834  0.463068  \n",
       "1                      stomach    0.026497  0.474838  \n",
       "2        lung_NSCLC_large_cell    0.032444  0.503245  \n",
       "3                       glioma    0.033209  0.505739  \n",
       "4                       breast    0.036640  0.518229  \n",
       "..                         ...         ...       ...  \n",
       "944                     kidney   77.937605  0.974348  \n",
       "945                     kidney   78.764555  0.961082  \n",
       "946   lung_NSCLC_not_specified   85.793583  0.985189  \n",
       "947  lung_NSCLC_adenocarcinoma  103.568955  0.953221  \n",
       "948                     cervix  151.475965  0.986244  \n",
       "\n",
       "[949 rows x 6 columns]"
      ]
     },
     "execution_count": 33,
     "metadata": {},
     "output_type": "execute_result"
    }
   ],
   "source": [
    "df"
   ]
  },
  {
   "cell_type": "code",
   "execution_count": 34,
   "id": "bad339a9-13ee-4644-9b63-ef4a66fd74eb",
   "metadata": {},
   "outputs": [],
   "source": [
    "import matplotlib.pyplot as plt"
   ]
  },
  {
   "cell_type": "code",
   "execution_count": 35,
   "id": "a7086539-36fb-400a-ac71-827520de49bb",
   "metadata": {},
   "outputs": [
    {
     "data": {
      "text/plain": [
       "<Axes: xlabel='IC50'>"
      ]
     },
     "execution_count": 35,
     "metadata": {},
     "output_type": "execute_result"
    },
    {
     "data": {
      "image/png": "[encoded data removed]",
      "text/plain": [
       "<Figure size 640x480 with 1 Axes>"
      ]
     },
     "metadata": {},
     "output_type": "display_data"
    }
   ],
   "source": [
    "df.plot(x=\"IC50\",y=\"AUC\",kind=\"line\")"
   ]
  },
  {
   "cell_type": "code",
   "execution_count": 36,
   "id": "26cbf062-6203-4367-9b8b-d5831b3f285f",
   "metadata": {},
   "outputs": [
    {
     "data": {
      "text/plain": [
       "<Axes: xlabel='AUC'>"
      ]
     },
     "execution_count": 36,
     "metadata": {},
     "output_type": "execute_result"
    },
    {
     "data": {
      "image/png": "[encoded data removed]",
      "text/plain": [
       "<Figure size 640x480 with 1 Axes>"
      ]
     },
     "metadata": {},
     "output_type": "display_data"
    }
   ],
   "source": [
    "df.plot(x=\"AUC\",y=\"IC50\",kind=\"line\")"
   ]
  },
  {
   "cell_type": "code",
   "execution_count": 41,
   "id": "7b5fbff4-5efe-4d98-b841-f58467338074",
   "metadata": {},
   "outputs": [
    {
     "data": {
      "text/plain": [
       "[<matplotlib.lines.Line2D at 0x218630b36b0>]"
      ]
     },
     "execution_count": 41,
     "metadata": {},
     "output_type": "execute_result"
    },
    {
     "data": {
      "image/png": "[encoded data removed]",
      "text/plain": [
       "<Figure size 640x480 with 1 Axes>"
      ]
     },
     "metadata": {},
     "output_type": "display_data"
    }
   ],
   "source": [
    "plt.title(\"Realtionship\")\n",
    "plt.xlabel(\"IC50\")\n",
    "plt.ylabel(\"AUC\")\n",
    "plt.plot(df[\"IC50\"], df[\"AUC\"])"
   ]
  },
  {
   "cell_type": "code",
   "execution_count": 43,
   "id": "5cb0ea82-dd5e-4be0-a9c5-94e0020670d7",
   "metadata": {},
   "outputs": [
    {
     "name": "stdout",
     "output_type": "stream",
     "text": [
      "17-AAG.csv\n",
      "AMN-107.csv\n",
      "AZD-0530.csv\n",
      "BAY 43-9006.csv\n",
      "Nutlin-3a.csv\n",
      "PD0325901.csv\n",
      "PHA665752.csv\n",
      "PLX4720.csv\n",
      "RG-1415.csv\n",
      "Tykerb.csv\n"
     ]
    }
   ],
   "source": [
    "import os\n",
    "dir = \"./drug data\"\n",
    "for file in os.listdir(dir):\n",
    "    print(file)"
   ]
  },
  {
   "cell_type": "code",
   "execution_count": null,
   "id": "d07daffa-0a2f-44df-870a-8034deac5e6b",
   "metadata": {},
   "outputs": [],
   "source": []
  }
 ],
 "metadata": {
  "kernelspec": {
   "display_name": "TF",
   "language": "python",
   "name": "tf"
  },
  "language_info": {
   "codemirror_mode": {
    "name": "ipython",
    "version": 3
   },
   "file_extension": ".py",
   "mimetype": "text/x-python",
   "name": "python",
   "nbconvert_exporter": "python",
   "pygments_lexer": "ipython3",
   "version": "3.12.2"
  }
 },
 "nbformat": 4,
 "nbformat_minor": 5
}
